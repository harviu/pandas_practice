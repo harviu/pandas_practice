{
 "cells": [
  {
   "cell_type": "markdown",
   "metadata": {},
   "source": [
    "# CSE 5544 Lab 1 Part 2\n",
    "\n",
    "\n",
    "Harvey Li (li.8460)"
   ]
  },
  {
   "cell_type": "markdown",
   "metadata": {},
   "source": [
    "## Task 1"
   ]
  },
  {
   "cell_type": "code",
   "execution_count": 1,
   "metadata": {},
   "outputs": [],
   "source": [
    "import pandas as pd\n",
    "import matplotlib.pyplot as plot\n",
    "import numpy as np"
   ]
  },
  {
   "cell_type": "code",
   "execution_count": 2,
   "metadata": {},
   "outputs": [],
   "source": [
    "df_teams = pd.read_csv('teams.csv')\n",
    "df_pitchers = pd.read_csv('pitching.csv')\n",
    "df_players = pd.read_csv('players.csv')"
   ]
  },
  {
   "cell_type": "code",
   "execution_count": 3,
   "metadata": {},
   "outputs": [],
   "source": [
    "df_teams_sub = df_teams.loc[lambda df:df.yearID.apply(lambda x:x>=2011 and x<=2015)]"
   ]
  },
  {
   "cell_type": "markdown",
   "metadata": {},
   "source": [
    "### 1.1)"
   ]
  },
  {
   "cell_type": "code",
   "execution_count": 4,
   "metadata": {},
   "outputs": [
    {
     "data": {
      "text/plain": [
       "SLN    465\n",
       "NYA    448\n",
       "LAN    446\n",
       "WAS    443\n",
       "DET    440\n",
       "LAA    436\n",
       "TEX    435\n",
       "PIT    431\n",
       "TBA    430\n",
       "SFN    428\n",
       "ATL    425\n",
       "BAL    424\n",
       "OAK    420\n",
       "KCA    413\n",
       "CLE    406\n",
       "CIN    406\n",
       "BOS    405\n",
       "TOR    404\n",
       "MIL    403\n",
       "ARI    399\n",
       "NYN    394\n",
       "PHI    392\n",
       "CHA    376\n",
       "SEA    376\n",
       "SDN    374\n",
       "CHN    368\n",
       "MIN    348\n",
       "COL    345\n",
       "HOU    318\n",
       "MIA    279\n",
       "FLO     72\n",
       "dtype: int64"
      ]
     },
     "execution_count": 4,
     "metadata": {},
     "output_type": "execute_result"
    }
   ],
   "source": [
    "teams_win = {}\n",
    "for _,row in df_teams_sub.iterrows():\n",
    "    if row['teamID'] not in teams_win:\n",
    "        teams_win[row.teamID]=int(row.W)\n",
    "    else:\n",
    "        teams_win[row.teamID]=int(row.W)+teams_win[row.teamID]\n",
    "\n",
    "df_teams_win = pd.Series(teams_win)\n",
    "df_teams_win.sort_values(ascending=False)"
   ]
  },
  {
   "cell_type": "code",
   "execution_count": 5,
   "metadata": {},
   "outputs": [],
   "source": [
    "teams =[] #Get all teams\n",
    "for iteam in df_teams_sub['teamID']:\n",
    "    sign = 0\n",
    "    for t in teams:\n",
    "        if iteam == t:\n",
    "            sign = 1\n",
    "    if sign == 0:\n",
    "        teams.append(iteam)\n",
    "\n",
    "\n",
    "team_years = {} #Get team years during 2011 to 2015\n",
    "for it in teams:\n",
    "    team_years[it]=len(df_teams_sub.loc[lambda df:df.teamID == it])\n",
    "    \n",
    "teams_game = {} #Get total number of games\n",
    "for _,row in df_teams_sub.iterrows():\n",
    "    if row['teamID'] not in teams_game:\n",
    "        teams_game[row.teamID]=int(row.G)\n",
    "    else:\n",
    "        teams_game[row.teamID]=int(row.G)+teams_game[row.teamID]    \n",
    "\n",
    "\n",
    "teams_ave_ratio = {}\n",
    "for i in teams_win: #Calculate team average winning every year\n",
    "    teams_ave_ratio[i]=teams_win[i]/teams_game[i]\n",
    "\n",
    "df_teams_ave_ratio = pd.Series(teams_ave_ratio) \n",
    "# Use the winning ratio as the index for winning records of each team.\n"
   ]
  },
  {
   "cell_type": "markdown",
   "metadata": {},
   "source": [
    "### 1.2)"
   ]
  },
  {
   "cell_type": "code",
   "execution_count": 6,
   "metadata": {},
   "outputs": [],
   "source": [
    "df_players_sub = df_players.loc[lambda df:df.yearID.apply(lambda x:x>=2011 and x<=2015)]\n"
   ]
  },
  {
   "cell_type": "code",
   "execution_count": 7,
   "metadata": {},
   "outputs": [
    {
     "data": {
      "text/plain": [
       "NYA    204717513.4\n",
       "LAN    170401274.0\n",
       "PHI    161337694.6\n",
       "BOS    154501998.4\n",
       "SFN    139546203.4\n",
       "DET    138945996.2\n",
       "LAA    130569249.4\n",
       "TEX    115163137.2\n",
       "WAS    109018298.6\n",
       "CHA    107795595.4\n",
       "SLN    105226428.2\n",
       "CHN     98844929.6\n",
       "TOR     96950520.0\n",
       "CIN     95413461.4\n",
       "MIN     93435400.0\n",
       "BAL     92962440.6\n",
       "MIL     92193062.0\n",
       "SEA     90090008.6\n",
       "ATL     85062881.8\n",
       "NYN     84465720.8\n",
       "COL     80907762.6\n",
       "ARI     75352433.2\n",
       "CLE     72061166.2\n",
       "SDN     71999488.0\n",
       "KCA     70633810.0\n",
       "PIT     70052899.6\n",
       "OAK     65676180.2\n",
       "MIA     62898325.0\n",
       "TBA     58642395.2\n",
       "FLO     56944000.0\n",
       "HOU     50803560.0\n",
       "dtype: float64"
      ]
     },
     "execution_count": 7,
     "metadata": {},
     "output_type": "execute_result"
    }
   ],
   "source": [
    "teams_ave_payroll = {}\n",
    "for _,row in df_players_sub.iterrows():\n",
    "    if not np.isnan(row.salary):\n",
    "        if row['teamID'] not in teams_ave_payroll:\n",
    "            teams_ave_payroll[row.teamID]=float(row.salary)\n",
    "        else:\n",
    "            teams_ave_payroll[row.teamID]=float(row.salary)+teams_ave_payroll[row.teamID]\n",
    "\n",
    "for i in teams_ave_payroll:\n",
    "    teams_ave_payroll[i]=teams_ave_payroll[i]/team_years[i]\n",
    "\n",
    "df_teams_ave_payroll = pd.Series(teams_ave_payroll)\n",
    "df_teams_ave_payroll.sort_values(ascending=False)"
   ]
  },
  {
   "cell_type": "markdown",
   "metadata": {},
   "source": [
    "### 1.3)"
   ]
  },
  {
   "cell_type": "code",
   "execution_count": 8,
   "metadata": {},
   "outputs": [
    {
     "data": {
      "text/plain": [
       "<matplotlib.collections.PathCollection at 0x2050faa0dd8>"
      ]
     },
     "execution_count": 8,
     "metadata": {},
     "output_type": "execute_result"
    },
    {
     "data": {
      "image/png": "[encoded data removed]",
      "text/plain": [
       "<Figure size 432x288 with 1 Axes>"
      ]
     },
     "metadata": {
      "needs_background": "light"
     },
     "output_type": "display_data"
    }
   ],
   "source": [
    "\n",
    "\n",
    "plot.scatter(x=df_teams_ave_payroll,y=df_teams_ave_ratio)"
   ]
  },
  {
   "cell_type": "code",
   "execution_count": 9,
   "metadata": {},
   "outputs": [
    {
     "data": {
      "text/html": [
       "<div>\n",
       "<style scoped>\n",
       "    .dataframe tbody tr th:only-of-type {\n",
       "        vertical-align: middle;\n",
       "    }\n",
       "\n",
       "    .dataframe tbody tr th {\n",
       "        vertical-align: top;\n",
       "    }\n",
       "\n",
       "    .dataframe thead th {\n",
       "        text-align: right;\n",
       "    }\n",
       "</style>\n",
       "<table border=\"1\" class=\"dataframe\">\n",
       "  <thead>\n",
       "    <tr style=\"text-align: right;\">\n",
       "      <th></th>\n",
       "      <th>0</th>\n",
       "      <th>1</th>\n",
       "    </tr>\n",
       "  </thead>\n",
       "  <tbody>\n",
       "    <tr>\n",
       "      <th>0</th>\n",
       "      <td>1.000000</td>\n",
       "      <td>0.482825</td>\n",
       "    </tr>\n",
       "    <tr>\n",
       "      <th>1</th>\n",
       "      <td>0.482825</td>\n",
       "      <td>1.000000</td>\n",
       "    </tr>\n",
       "  </tbody>\n",
       "</table>\n",
       "</div>"
      ],
      "text/plain": [
       "          0         1\n",
       "0  1.000000  0.482825\n",
       "1  0.482825  1.000000"
      ]
     },
     "execution_count": 9,
     "metadata": {},
     "output_type": "execute_result"
    }
   ],
   "source": [
    "pd.concat([df_teams_ave_payroll,df_teams_ave_ratio],axis=1).corr('pearson')"
   ]
  },
  {
   "cell_type": "markdown",
   "metadata": {},
   "source": [
    "The average payroll of the team is positively related to its total winnings. But the correlation coefficient is not very high."
   ]
  },
  {
   "cell_type": "markdown",
   "metadata": {},
   "source": [
    "## Task 2\n",
    "\n",
    "### 2.1 )"
   ]
  },
  {
   "cell_type": "code",
   "execution_count": 10,
   "metadata": {},
   "outputs": [
    {
     "data": {
      "text/plain": [
       "DET    0.275054\n",
       "COL    0.268635\n",
       "TEX    0.266463\n",
       "KCA    0.266219\n",
       "BOS    0.265485\n",
       "SLN    0.263930\n",
       "LAA    0.259258\n",
       "SFN    0.258669\n",
       "LAN    0.257525\n",
       "ARI    0.256268\n",
       "MIL    0.254887\n",
       "TOR    0.254803\n",
       "BAL    0.254004\n",
       "NYA    0.253348\n",
       "CLE    0.253044\n",
       "WAS    0.251912\n",
       "CHA    0.251708\n",
       "PIT    0.250382\n",
       "MIN    0.250009\n",
       "PHI    0.249287\n",
       "CIN    0.248566\n",
       "TBA    0.247762\n",
       "MIA    0.246859\n",
       "NYN    0.246631\n",
       "FLO    0.246550\n",
       "OAK    0.246229\n",
       "ATL    0.246206\n",
       "HOU    0.244994\n",
       "CHN    0.243399\n",
       "SDN    0.239606\n",
       "SEA    0.239305\n",
       "dtype: float64"
      ]
     },
     "execution_count": 10,
     "metadata": {},
     "output_type": "execute_result"
    }
   ],
   "source": [
    "teams_ab = {}\n",
    "teams_hit = {}\n",
    "teams_ave_bat ={}\n",
    "for _,row in df_players_sub.iterrows():\n",
    "    if row['teamID'] not in teams_ab:\n",
    "        teams_ab[row.teamID] = int(row.AB)\n",
    "        teams_hit[row.teamID] = int(row.H)\n",
    "    else:\n",
    "        teams_ab[row.teamID] = int(row.AB)+teams_ab[row.teamID]\n",
    "        teams_hit[row.teamID] = int(row.H)+teams_hit[row.teamID]\n",
    "for it in teams_ab:\n",
    "    teams_ave_bat[it]=teams_hit[it]/teams_ab[it]\n",
    "    \n",
    "df_teams_ave_bat = pd.Series(teams_ave_bat)\n",
    "df_teams_ave_bat.sort_values(ascending=False)\n"
   ]
  },
  {
   "cell_type": "markdown",
   "metadata": {},
   "source": [
    "### 2.2 )"
   ]
  },
  {
   "cell_type": "code",
   "execution_count": 11,
   "metadata": {},
   "outputs": [
    {
     "data": {
      "text/html": [
       "<div>\n",
       "<style scoped>\n",
       "    .dataframe tbody tr th:only-of-type {\n",
       "        vertical-align: middle;\n",
       "    }\n",
       "\n",
       "    .dataframe tbody tr th {\n",
       "        vertical-align: top;\n",
       "    }\n",
       "\n",
       "    .dataframe thead th {\n",
       "        text-align: right;\n",
       "    }\n",
       "</style>\n",
       "<table border=\"1\" class=\"dataframe\">\n",
       "  <thead>\n",
       "    <tr style=\"text-align: right;\">\n",
       "      <th></th>\n",
       "      <th>0</th>\n",
       "      <th>1</th>\n",
       "    </tr>\n",
       "  </thead>\n",
       "  <tbody>\n",
       "    <tr>\n",
       "      <th>0</th>\n",
       "      <td>1.000000</td>\n",
       "      <td>0.415449</td>\n",
       "    </tr>\n",
       "    <tr>\n",
       "      <th>1</th>\n",
       "      <td>0.415449</td>\n",
       "      <td>1.000000</td>\n",
       "    </tr>\n",
       "  </tbody>\n",
       "</table>\n",
       "</div>"
      ],
      "text/plain": [
       "          0         1\n",
       "0  1.000000  0.415449\n",
       "1  0.415449  1.000000"
      ]
     },
     "execution_count": 11,
     "metadata": {},
     "output_type": "execute_result"
    },
    {
     "data": {
      "image/png": "[encoded data removed]",
      "text/plain": [
       "<Figure size 432x288 with 1 Axes>"
      ]
     },
     "metadata": {
      "needs_background": "light"
     },
     "output_type": "display_data"
    }
   ],
   "source": [
    "plot.scatter(x=df_teams_ave_bat,y=df_teams_ave_ratio)\n",
    "pd.concat([df_teams_ave_bat,df_teams_ave_ratio],axis=1).corr('pearson')"
   ]
  },
  {
   "cell_type": "markdown",
   "metadata": {},
   "source": [
    "The average batting of the team is positively related to its total winnings."
   ]
  },
  {
   "cell_type": "markdown",
   "metadata": {},
   "source": [
    "## Task 3\n",
    "\n",
    "### 3.1 )"
   ]
  },
  {
   "cell_type": "code",
   "execution_count": 14,
   "metadata": {},
   "outputs": [
    {
     "data": {
      "text/plain": [
       "COL    4.794\n",
       "MIN    4.508\n",
       "HOU    4.308\n",
       "TOR    4.202\n",
       "BOS    4.202\n",
       "BAL    4.094\n",
       "CHA    4.074\n",
       "TEX    4.026\n",
       "CHN    4.022\n",
       "CLE    4.012\n",
       "DET    4.010\n",
       "ARI    3.990\n",
       "FLO    3.950\n",
       "PHI    3.930\n",
       "MIL    3.928\n",
       "MIA    3.900\n",
       "KCA    3.886\n",
       "LAA    3.868\n",
       "SEA    3.860\n",
       "NYA    3.858\n",
       "NYN    3.794\n",
       "CIN    3.760\n",
       "SDN    3.754\n",
       "OAK    3.622\n",
       "SFN    3.620\n",
       "ATL    3.574\n",
       "PIT    3.568\n",
       "TBA    3.562\n",
       "SLN    3.462\n",
       "WAS    3.430\n",
       "LAN    3.394\n",
       "dtype: float64"
      ]
     },
     "execution_count": 14,
     "metadata": {},
     "output_type": "execute_result"
    }
   ],
   "source": [
    "teams_ave_era = {}\n",
    "for _,row in df_teams_sub.iterrows():\n",
    "    if row['teamID'] not in teams_ave_era:\n",
    "        teams_ave_era[row.teamID]=float(row.ERA)\n",
    "    else:\n",
    "        teams_ave_era[row.teamID]=float(row.ERA)+teams_ave_era[row.teamID]\n",
    "\n",
    "for i in teams_ave_era:\n",
    "    teams_ave_era[i]=teams_ave_era[i]/team_years[i]\n",
    "        \n",
    "df_teams_ave_era = pd.Series(teams_ave_era)\n",
    "df_teams_ave_era.sort_values(ascending=False)"
   ]
  },
  {
   "cell_type": "markdown",
   "metadata": {},
   "source": [
    "### 3.2 )"
   ]
  },
  {
   "cell_type": "code",
   "execution_count": 15,
   "metadata": {},
   "outputs": [
    {
     "data": {
      "text/html": [
       "<div>\n",
       "<style scoped>\n",
       "    .dataframe tbody tr th:only-of-type {\n",
       "        vertical-align: middle;\n",
       "    }\n",
       "\n",
       "    .dataframe tbody tr th {\n",
       "        vertical-align: top;\n",
       "    }\n",
       "\n",
       "    .dataframe thead th {\n",
       "        text-align: right;\n",
       "    }\n",
       "</style>\n",
       "<table border=\"1\" class=\"dataframe\">\n",
       "  <thead>\n",
       "    <tr style=\"text-align: right;\">\n",
       "      <th></th>\n",
       "      <th>0</th>\n",
       "      <th>1</th>\n",
       "    </tr>\n",
       "  </thead>\n",
       "  <tbody>\n",
       "    <tr>\n",
       "      <th>0</th>\n",
       "      <td>1.000000</td>\n",
       "      <td>-0.665413</td>\n",
       "    </tr>\n",
       "    <tr>\n",
       "      <th>1</th>\n",
       "      <td>-0.665413</td>\n",
       "      <td>1.000000</td>\n",
       "    </tr>\n",
       "  </tbody>\n",
       "</table>\n",
       "</div>"
      ],
      "text/plain": [
       "          0         1\n",
       "0  1.000000 -0.665413\n",
       "1 -0.665413  1.000000"
      ]
     },
     "execution_count": 15,
     "metadata": {},
     "output_type": "execute_result"
    },
    {
     "data": {
      "image/png": "[encoded data removed]",
      "text/plain": [
       "<Figure size 432x288 with 1 Axes>"
      ]
     },
     "metadata": {
      "needs_background": "light"
     },
     "output_type": "display_data"
    }
   ],
   "source": [
    "plot.scatter(x=df_teams_ave_era,y=df_teams_ave_ratio)\n",
    "pd.concat([df_teams_ave_era,df_teams_ave_ratio],axis=1).corr('pearson')"
   ]
  },
  {
   "cell_type": "markdown",
   "metadata": {},
   "source": [
    "Team’s winning record is related to its pitching performance. And the correlation coefficient is higher than payroll and average batting."
   ]
  },
  {
   "cell_type": "code",
   "execution_count": null,
   "metadata": {},
   "outputs": [],
   "source": []
  }
 ],
 "metadata": {
  "kernelspec": {
   "display_name": "Python 3",
   "language": "python",
   "name": "python3"
  },
  "language_info": {
   "codemirror_mode": {
    "name": "ipython",
    "version": 3
   },
   "file_extension": ".py",
   "mimetype": "text/x-python",
   "name": "python",
   "nbconvert_exporter": "python",
   "pygments_lexer": "ipython3",
   "version": "3.6.6"
  }
 },
 "nbformat": 4,
 "nbformat_minor": 2
}
